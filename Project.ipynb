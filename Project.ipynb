{
 "cells": [
  {
   "cell_type": "code",
   "execution_count": 1,
   "metadata": {},
   "outputs": [],
   "source": [
    "# importing libraries\n",
    "import os\n",
    "import pandas as pd\n",
    "import numpy as np\n",
    "import matplotlib.pyplot as plt\n",
    "import seaborn as sns\n",
    "from random import randrange,uniform\n",
    "from sklearn.metrics import r2_score\n",
    "from scipy import stats\n",
    "import statistics \n",
    "import statsmodels.api as sm\n",
    "from statsmodels.formula.api import ols\n",
    "import sklearn"
   ]
  },
  {
   "cell_type": "code",
   "execution_count": 2,
   "metadata": {},
   "outputs": [],
   "source": [
    "#setting working directory\n",
    "os.chdir(\"/Users/alfazalm/Documents/bike_rent/bikerent\")"
   ]
  },
  {
   "cell_type": "code",
   "execution_count": 3,
   "metadata": {},
   "outputs": [],
   "source": [
    "#loading csv file\n",
    "day = pd.read_csv(\"day.csv\")"
   ]
  },
  {
   "cell_type": "code",
   "execution_count": 4,
   "metadata": {},
   "outputs": [
    {
     "data": {
      "text/html": [
       "<div>\n",
       "<style scoped>\n",
       "    .dataframe tbody tr th:only-of-type {\n",
       "        vertical-align: middle;\n",
       "    }\n",
       "\n",
       "    .dataframe tbody tr th {\n",
       "        vertical-align: top;\n",
       "    }\n",
       "\n",
       "    .dataframe thead th {\n",
       "        text-align: right;\n",
       "    }\n",
       "</style>\n",
       "<table border=\"1\" class=\"dataframe\">\n",
       "  <thead>\n",
       "    <tr style=\"text-align: right;\">\n",
       "      <th></th>\n",
       "      <th>instant</th>\n",
       "      <th>dteday</th>\n",
       "      <th>season</th>\n",
       "      <th>yr</th>\n",
       "      <th>mnth</th>\n",
       "      <th>holiday</th>\n",
       "      <th>weekday</th>\n",
       "      <th>workingday</th>\n",
       "      <th>weathersit</th>\n",
       "      <th>temp</th>\n",
       "      <th>atemp</th>\n",
       "      <th>hum</th>\n",
       "      <th>windspeed</th>\n",
       "      <th>casual</th>\n",
       "      <th>registered</th>\n",
       "      <th>cnt</th>\n",
       "    </tr>\n",
       "  </thead>\n",
       "  <tbody>\n",
       "    <tr>\n",
       "      <th>0</th>\n",
       "      <td>1</td>\n",
       "      <td>2011-01-01</td>\n",
       "      <td>1</td>\n",
       "      <td>0</td>\n",
       "      <td>1</td>\n",
       "      <td>0</td>\n",
       "      <td>6</td>\n",
       "      <td>0</td>\n",
       "      <td>2</td>\n",
       "      <td>0.344167</td>\n",
       "      <td>0.363625</td>\n",
       "      <td>0.805833</td>\n",
       "      <td>0.160446</td>\n",
       "      <td>331</td>\n",
       "      <td>654</td>\n",
       "      <td>985</td>\n",
       "    </tr>\n",
       "    <tr>\n",
       "      <th>1</th>\n",
       "      <td>2</td>\n",
       "      <td>2011-01-02</td>\n",
       "      <td>1</td>\n",
       "      <td>0</td>\n",
       "      <td>1</td>\n",
       "      <td>0</td>\n",
       "      <td>0</td>\n",
       "      <td>0</td>\n",
       "      <td>2</td>\n",
       "      <td>0.363478</td>\n",
       "      <td>0.353739</td>\n",
       "      <td>0.696087</td>\n",
       "      <td>0.248539</td>\n",
       "      <td>131</td>\n",
       "      <td>670</td>\n",
       "      <td>801</td>\n",
       "    </tr>\n",
       "    <tr>\n",
       "      <th>2</th>\n",
       "      <td>3</td>\n",
       "      <td>2011-01-03</td>\n",
       "      <td>1</td>\n",
       "      <td>0</td>\n",
       "      <td>1</td>\n",
       "      <td>0</td>\n",
       "      <td>1</td>\n",
       "      <td>1</td>\n",
       "      <td>1</td>\n",
       "      <td>0.196364</td>\n",
       "      <td>0.189405</td>\n",
       "      <td>0.437273</td>\n",
       "      <td>0.248309</td>\n",
       "      <td>120</td>\n",
       "      <td>1229</td>\n",
       "      <td>1349</td>\n",
       "    </tr>\n",
       "    <tr>\n",
       "      <th>3</th>\n",
       "      <td>4</td>\n",
       "      <td>2011-01-04</td>\n",
       "      <td>1</td>\n",
       "      <td>0</td>\n",
       "      <td>1</td>\n",
       "      <td>0</td>\n",
       "      <td>2</td>\n",
       "      <td>1</td>\n",
       "      <td>1</td>\n",
       "      <td>0.200000</td>\n",
       "      <td>0.212122</td>\n",
       "      <td>0.590435</td>\n",
       "      <td>0.160296</td>\n",
       "      <td>108</td>\n",
       "      <td>1454</td>\n",
       "      <td>1562</td>\n",
       "    </tr>\n",
       "    <tr>\n",
       "      <th>4</th>\n",
       "      <td>5</td>\n",
       "      <td>2011-01-05</td>\n",
       "      <td>1</td>\n",
       "      <td>0</td>\n",
       "      <td>1</td>\n",
       "      <td>0</td>\n",
       "      <td>3</td>\n",
       "      <td>1</td>\n",
       "      <td>1</td>\n",
       "      <td>0.226957</td>\n",
       "      <td>0.229270</td>\n",
       "      <td>0.436957</td>\n",
       "      <td>0.186900</td>\n",
       "      <td>82</td>\n",
       "      <td>1518</td>\n",
       "      <td>1600</td>\n",
       "    </tr>\n",
       "  </tbody>\n",
       "</table>\n",
       "</div>"
      ],
      "text/plain": [
       "   instant      dteday  season  yr  mnth  holiday  weekday  workingday  \\\n",
       "0        1  2011-01-01       1   0     1        0        6           0   \n",
       "1        2  2011-01-02       1   0     1        0        0           0   \n",
       "2        3  2011-01-03       1   0     1        0        1           1   \n",
       "3        4  2011-01-04       1   0     1        0        2           1   \n",
       "4        5  2011-01-05       1   0     1        0        3           1   \n",
       "\n",
       "   weathersit      temp     atemp       hum  windspeed  casual  registered  \\\n",
       "0           2  0.344167  0.363625  0.805833   0.160446     331         654   \n",
       "1           2  0.363478  0.353739  0.696087   0.248539     131         670   \n",
       "2           1  0.196364  0.189405  0.437273   0.248309     120        1229   \n",
       "3           1  0.200000  0.212122  0.590435   0.160296     108        1454   \n",
       "4           1  0.226957  0.229270  0.436957   0.186900      82        1518   \n",
       "\n",
       "    cnt  \n",
       "0   985  \n",
       "1   801  \n",
       "2  1349  \n",
       "3  1562  \n",
       "4  1600  "
      ]
     },
     "execution_count": 4,
     "metadata": {},
     "output_type": "execute_result"
    }
   ],
   "source": [
    "#Taking some samples of data\n",
    "day.head()"
   ]
  },
  {
   "cell_type": "code",
   "execution_count": 5,
   "metadata": {},
   "outputs": [
    {
     "name": "stdout",
     "output_type": "stream",
     "text": [
      "Index(['instant', 'dteday', 'season', 'yr', 'mnth', 'holiday', 'weekday',\n",
      "       'workingday', 'weathersit', 'temp', 'atemp', 'hum', 'windspeed',\n",
      "       'casual', 'registered', 'cnt'],\n",
      "      dtype='object')\n"
     ]
    }
   ],
   "source": [
    "#Variables\n",
    "print(day.columns)"
   ]
  },
  {
   "cell_type": "markdown",
   "metadata": {},
   "source": [
    "Missing Value Analysis\n"
   ]
  },
  {
   "cell_type": "code",
   "execution_count": 6,
   "metadata": {},
   "outputs": [
    {
     "data": {
      "text/plain": [
       "instant       0\n",
       "dteday        0\n",
       "season        0\n",
       "yr            0\n",
       "mnth          0\n",
       "holiday       0\n",
       "weekday       0\n",
       "workingday    0\n",
       "weathersit    0\n",
       "temp          0\n",
       "atemp         0\n",
       "hum           0\n",
       "windspeed     0\n",
       "casual        0\n",
       "registered    0\n",
       "cnt           0\n",
       "dtype: int64"
      ]
     },
     "execution_count": 6,
     "metadata": {},
     "output_type": "execute_result"
    }
   ],
   "source": [
    "day.isnull().sum()"
   ]
  },
  {
   "cell_type": "markdown",
   "metadata": {},
   "source": [
    "There is no missing value"
   ]
  },
  {
   "cell_type": "markdown",
   "metadata": {},
   "source": [
    "Outlier Analysis"
   ]
  },
  {
   "cell_type": "code",
   "execution_count": 7,
   "metadata": {},
   "outputs": [
    {
     "data": {
      "image/png": "[encoded data removed]",
      "text/plain": [
       "<Figure size 432x288 with 1 Axes>"
      ]
     },
     "metadata": {
      "needs_background": "light"
     },
     "output_type": "display_data"
    }
   ],
   "source": [
    "sns.boxplot(y = day['temp'])\n",
    "plt.title(\"Boxplot of Temperature\")\n",
    "plt.show()"
   ]
  },
  {
   "cell_type": "markdown",
   "metadata": {},
   "source": [
    "There is no outlier in Temperature"
   ]
  },
  {
   "cell_type": "code",
   "execution_count": 8,
   "metadata": {},
   "outputs": [
    {
     "data": {
      "image/png": "[encoded data removed]",
      "text/plain": [
       "<Figure size 432x288 with 1 Axes>"
      ]
     },
     "metadata": {
      "needs_background": "light"
     },
     "output_type": "display_data"
    }
   ],
   "source": [
    "sns.boxplot(y = day['hum'])\n",
    "plt.title(\"Boxplot of Humidity\")\n",
    "plt.show()"
   ]
  },
  {
   "cell_type": "markdown",
   "metadata": {},
   "source": [
    "There are outliers in Humidity"
   ]
  },
  {
   "cell_type": "code",
   "execution_count": 9,
   "metadata": {},
   "outputs": [
    {
     "data": {
      "image/png": "[encoded data removed]",
      "text/plain": [
       "<Figure size 432x288 with 1 Axes>"
      ]
     },
     "metadata": {
      "needs_background": "light"
     },
     "output_type": "display_data"
    }
   ],
   "source": [
    "sns.boxplot(y = day['windspeed'])\n",
    "plt.title(\"Boxplot of Windspeed\")\n",
    "plt.show()"
   ]
  },
  {
   "cell_type": "markdown",
   "metadata": {},
   "source": [
    "There are outliers in windspeed"
   ]
  },
  {
   "cell_type": "markdown",
   "metadata": {},
   "source": [
    "Removing Outliers in Humidity and windspeed"
   ]
  },
  {
   "cell_type": "code",
   "execution_count": 10,
   "metadata": {},
   "outputs": [
    {
     "name": "stdout",
     "output_type": "stream",
     "text": [
      "0.20468725\n",
      "1.0455212500000002\n",
      "0.21020850000000002\n"
     ]
    }
   ],
   "source": [
    "q25h=np.percentile(day['hum'],25)\n",
    "q75h = np.percentile(day['hum'],75)\n",
    "iqh= q75h-q25h\n",
    "innerfh = q25h - (iqh*1.5)\n",
    "upperfh = q75h + (iqh*1.5)\n",
    "print(innerfh)\n",
    "print(upperfh)\n",
    "print(iqh)\n"
   ]
  },
  {
   "cell_type": "markdown",
   "metadata": {},
   "source": [
    "Innerfence for Humidity = 0.20468725\n",
    " Upperfence for humidity = 1.0455212500000002\n",
    " IQR for Humidity = 0.21020850000000002"
   ]
  },
  {
   "cell_type": "code",
   "execution_count": 11,
   "metadata": {},
   "outputs": [],
   "source": [
    "day2=day\n",
    "day2.loc[day['hum']<innerfh, 'hum'] = np.nan\n",
    "day2.loc[day['hum']>upperfh, 'hum'] = np.nan"
   ]
  },
  {
   "cell_type": "code",
   "execution_count": 12,
   "metadata": {},
   "outputs": [
    {
     "data": {
      "image/png": "[encoded data removed]",
      "text/plain": [
       "<Figure size 432x288 with 1 Axes>"
      ]
     },
     "metadata": {
      "needs_background": "light"
     },
     "output_type": "display_data"
    }
   ],
   "source": [
    "sns.boxplot(y = day2['hum'])\n",
    "plt.title(\"Boxplot of Humidity\")\n",
    "plt.show()"
   ]
  },
  {
   "cell_type": "markdown",
   "metadata": {},
   "source": [
    "Outliers in Humidity are removed"
   ]
  },
  {
   "cell_type": "code",
   "execution_count": 13,
   "metadata": {},
   "outputs": [
    {
     "name": "stdout",
     "output_type": "stream",
     "text": [
      "-0.012446750000000034\n",
      "0.38061125\n",
      "0.0982645\n"
     ]
    }
   ],
   "source": [
    "q25w=np.percentile(day['windspeed'],25)\n",
    "q75w = np.percentile(day['windspeed'],75)\n",
    "iqw= q75w-q25w\n",
    "innerfw = q25w - (iqw*1.5)\n",
    "upperfw = q75w + (iqw*1.5)\n",
    "print(innerfw)\n",
    "print(upperfw)\n",
    "print(iqw)"
   ]
  },
  {
   "cell_type": "markdown",
   "metadata": {},
   "source": [
    "Innerfence for Windspeed = -0.012446750000000034 Upperfence for Windspeed = 0.38061125 IQR for Windspeed = 0.0982645"
   ]
  },
  {
   "cell_type": "code",
   "execution_count": 14,
   "metadata": {},
   "outputs": [],
   "source": [
    "day2.loc[day['windspeed']<innerfw, 'windspeed'] = np.nan\n",
    "day2.loc[day['windspeed']>upperfw, 'windspeed'] = np.nan"
   ]
  },
  {
   "cell_type": "code",
   "execution_count": 15,
   "metadata": {},
   "outputs": [
    {
     "data": {
      "image/png": "[encoded data removed]",
      "text/plain": [
       "<Figure size 432x288 with 1 Axes>"
      ]
     },
     "metadata": {
      "needs_background": "light"
     },
     "output_type": "display_data"
    }
   ],
   "source": [
    "sns.boxplot(y = day2['windspeed'])\n",
    "plt.title(\"Boxplot of Windspeed\")\n",
    "plt.show()"
   ]
  },
  {
   "cell_type": "markdown",
   "metadata": {},
   "source": [
    "Outliers in windspeed are removed"
   ]
  },
  {
   "cell_type": "code",
   "execution_count": null,
   "metadata": {},
   "outputs": [],
   "source": []
  },
  {
   "cell_type": "code",
   "execution_count": 16,
   "metadata": {},
   "outputs": [
    {
     "data": {
      "text/html": [
       "<div>\n",
       "<style scoped>\n",
       "    .dataframe tbody tr th:only-of-type {\n",
       "        vertical-align: middle;\n",
       "    }\n",
       "\n",
       "    .dataframe tbody tr th {\n",
       "        vertical-align: top;\n",
       "    }\n",
       "\n",
       "    .dataframe thead th {\n",
       "        text-align: right;\n",
       "    }\n",
       "</style>\n",
       "<table border=\"1\" class=\"dataframe\">\n",
       "  <thead>\n",
       "    <tr style=\"text-align: right;\">\n",
       "      <th></th>\n",
       "      <th>instant</th>\n",
       "      <th>dteday</th>\n",
       "      <th>season</th>\n",
       "      <th>yr</th>\n",
       "      <th>mnth</th>\n",
       "      <th>holiday</th>\n",
       "      <th>weekday</th>\n",
       "      <th>workingday</th>\n",
       "      <th>weathersit</th>\n",
       "      <th>temp</th>\n",
       "      <th>atemp</th>\n",
       "      <th>hum</th>\n",
       "      <th>windspeed</th>\n",
       "      <th>casual</th>\n",
       "      <th>registered</th>\n",
       "      <th>cnt</th>\n",
       "    </tr>\n",
       "  </thead>\n",
       "  <tbody>\n",
       "    <tr>\n",
       "      <th>0</th>\n",
       "      <td>1</td>\n",
       "      <td>2011-01-01</td>\n",
       "      <td>1</td>\n",
       "      <td>0</td>\n",
       "      <td>1</td>\n",
       "      <td>0</td>\n",
       "      <td>6</td>\n",
       "      <td>0</td>\n",
       "      <td>2</td>\n",
       "      <td>0.344167</td>\n",
       "      <td>0.363625</td>\n",
       "      <td>0.805833</td>\n",
       "      <td>0.160446</td>\n",
       "      <td>331</td>\n",
       "      <td>654</td>\n",
       "      <td>985</td>\n",
       "    </tr>\n",
       "    <tr>\n",
       "      <th>1</th>\n",
       "      <td>2</td>\n",
       "      <td>2011-01-02</td>\n",
       "      <td>1</td>\n",
       "      <td>0</td>\n",
       "      <td>1</td>\n",
       "      <td>0</td>\n",
       "      <td>0</td>\n",
       "      <td>0</td>\n",
       "      <td>2</td>\n",
       "      <td>0.363478</td>\n",
       "      <td>0.353739</td>\n",
       "      <td>0.696087</td>\n",
       "      <td>0.248539</td>\n",
       "      <td>131</td>\n",
       "      <td>670</td>\n",
       "      <td>801</td>\n",
       "    </tr>\n",
       "    <tr>\n",
       "      <th>2</th>\n",
       "      <td>3</td>\n",
       "      <td>2011-01-03</td>\n",
       "      <td>1</td>\n",
       "      <td>0</td>\n",
       "      <td>1</td>\n",
       "      <td>0</td>\n",
       "      <td>1</td>\n",
       "      <td>1</td>\n",
       "      <td>1</td>\n",
       "      <td>0.196364</td>\n",
       "      <td>0.189405</td>\n",
       "      <td>0.437273</td>\n",
       "      <td>0.248309</td>\n",
       "      <td>120</td>\n",
       "      <td>1229</td>\n",
       "      <td>1349</td>\n",
       "    </tr>\n",
       "    <tr>\n",
       "      <th>3</th>\n",
       "      <td>4</td>\n",
       "      <td>2011-01-04</td>\n",
       "      <td>1</td>\n",
       "      <td>0</td>\n",
       "      <td>1</td>\n",
       "      <td>0</td>\n",
       "      <td>2</td>\n",
       "      <td>1</td>\n",
       "      <td>1</td>\n",
       "      <td>0.200000</td>\n",
       "      <td>0.212122</td>\n",
       "      <td>0.590435</td>\n",
       "      <td>0.160296</td>\n",
       "      <td>108</td>\n",
       "      <td>1454</td>\n",
       "      <td>1562</td>\n",
       "    </tr>\n",
       "    <tr>\n",
       "      <th>4</th>\n",
       "      <td>5</td>\n",
       "      <td>2011-01-05</td>\n",
       "      <td>1</td>\n",
       "      <td>0</td>\n",
       "      <td>1</td>\n",
       "      <td>0</td>\n",
       "      <td>3</td>\n",
       "      <td>1</td>\n",
       "      <td>1</td>\n",
       "      <td>0.226957</td>\n",
       "      <td>0.229270</td>\n",
       "      <td>0.436957</td>\n",
       "      <td>0.186900</td>\n",
       "      <td>82</td>\n",
       "      <td>1518</td>\n",
       "      <td>1600</td>\n",
       "    </tr>\n",
       "  </tbody>\n",
       "</table>\n",
       "</div>"
      ],
      "text/plain": [
       "   instant      dteday  season  yr  mnth  holiday  weekday  workingday  \\\n",
       "0        1  2011-01-01       1   0     1        0        6           0   \n",
       "1        2  2011-01-02       1   0     1        0        0           0   \n",
       "2        3  2011-01-03       1   0     1        0        1           1   \n",
       "3        4  2011-01-04       1   0     1        0        2           1   \n",
       "4        5  2011-01-05       1   0     1        0        3           1   \n",
       "\n",
       "   weathersit      temp     atemp       hum  windspeed  casual  registered  \\\n",
       "0           2  0.344167  0.363625  0.805833   0.160446     331         654   \n",
       "1           2  0.363478  0.353739  0.696087   0.248539     131         670   \n",
       "2           1  0.196364  0.189405  0.437273   0.248309     120        1229   \n",
       "3           1  0.200000  0.212122  0.590435   0.160296     108        1454   \n",
       "4           1  0.226957  0.229270  0.436957   0.186900      82        1518   \n",
       "\n",
       "    cnt  \n",
       "0   985  \n",
       "1   801  \n",
       "2  1349  \n",
       "3  1562  \n",
       "4  1600  "
      ]
     },
     "execution_count": 16,
     "metadata": {},
     "output_type": "execute_result"
    }
   ],
   "source": [
    "day2.head()"
   ]
  },
  {
   "cell_type": "code",
   "execution_count": 17,
   "metadata": {},
   "outputs": [
    {
     "data": {
      "text/plain": [
       "instant        0\n",
       "dteday         0\n",
       "season         0\n",
       "yr             0\n",
       "mnth           0\n",
       "holiday        0\n",
       "weekday        0\n",
       "workingday     0\n",
       "weathersit     0\n",
       "temp           0\n",
       "atemp          0\n",
       "hum            2\n",
       "windspeed     13\n",
       "casual         0\n",
       "registered     0\n",
       "cnt            0\n",
       "dtype: int64"
      ]
     },
     "execution_count": 17,
     "metadata": {},
     "output_type": "execute_result"
    }
   ],
   "source": [
    "day2.isnull().sum()"
   ]
  },
  {
   "cell_type": "code",
   "execution_count": 18,
   "metadata": {},
   "outputs": [],
   "source": [
    "#imputing NA values with mean\n",
    "day3=day2\n",
    "meanh= day3[\"hum\"].mean()\n",
    "meanw= day3[\"windspeed\"].mean()\n",
    "day3['hum'] = day3['hum'].fillna(meanh)\n",
    "day3['windspeed'] = day3['windspeed'].fillna(meanw)\n",
    "\n"
   ]
  },
  {
   "cell_type": "code",
   "execution_count": 19,
   "metadata": {},
   "outputs": [
    {
     "data": {
      "text/plain": [
       "instant       0\n",
       "dteday        0\n",
       "season        0\n",
       "yr            0\n",
       "mnth          0\n",
       "holiday       0\n",
       "weekday       0\n",
       "workingday    0\n",
       "weathersit    0\n",
       "temp          0\n",
       "atemp         0\n",
       "hum           0\n",
       "windspeed     0\n",
       "casual        0\n",
       "registered    0\n",
       "cnt           0\n",
       "dtype: int64"
      ]
     },
     "execution_count": 19,
     "metadata": {},
     "output_type": "execute_result"
    }
   ],
   "source": [
    "day3.isnull().sum()"
   ]
  },
  {
   "cell_type": "markdown",
   "metadata": {},
   "source": [
    "Feature Selection"
   ]
  },
  {
   "cell_type": "code",
   "execution_count": 20,
   "metadata": {},
   "outputs": [
    {
     "name": "stdout",
     "output_type": "stream",
     "text": [
      "               temp     atemp       hum  windspeed       cnt\n",
      "temp       1.000000  0.991702  0.123703  -0.140000  0.627494\n",
      "atemp      0.991702  1.000000  0.137293  -0.165315  0.631066\n",
      "hum        0.123703  0.137293  1.000000  -0.201894 -0.121518\n",
      "windspeed -0.140000 -0.165315 -0.201894   1.000000 -0.216473\n",
      "cnt        0.627494  0.631066 -0.121518  -0.216473  1.000000\n"
     ]
    }
   ],
   "source": [
    "#collinearity checking with numeric variables\n",
    "numeric = ['temp', 'atemp', 'hum', 'windspeed', 'cnt']\n",
    "correlation = day3.loc[:, numeric].corr()\n",
    "print(correlation)"
   ]
  },
  {
   "cell_type": "markdown",
   "metadata": {},
   "source": [
    "temp and atemp variables are highly correlated(0.991702)"
   ]
  },
  {
   "cell_type": "code",
   "execution_count": 21,
   "metadata": {},
   "outputs": [
    {
     "name": "stdout",
     "output_type": "stream",
     "text": [
      "                sum_sq     df           F        PR(>F)\n",
      "season    4.517974e+08    1.0  143.967653  2.133997e-30\n",
      "Residual  2.287738e+09  729.0         NaN           NaN\n",
      "                sum_sq     df           F        PR(>F)\n",
      "yr        8.798289e+08    1.0  344.890586  2.483540e-63\n",
      "Residual  1.859706e+09  729.0         NaN           NaN\n",
      "                sum_sq     df          F        PR(>F)\n",
      "mnth      2.147445e+08    1.0  62.004625  1.243112e-14\n",
      "Residual  2.524791e+09  729.0        NaN           NaN\n",
      "                sum_sq     df         F    PR(>F)\n",
      "holiday   1.279749e+07    1.0  3.421441  0.064759\n",
      "Residual  2.726738e+09  729.0       NaN       NaN\n",
      "                sum_sq     df         F    PR(>F)\n",
      "weekday   1.246109e+07    1.0  3.331091  0.068391\n",
      "Residual  2.727074e+09  729.0       NaN       NaN\n",
      "                  sum_sq     df         F    PR(>F)\n",
      "workingday  1.024604e+07    1.0  2.736742  0.098495\n",
      "Residual    2.729289e+09  729.0       NaN       NaN\n",
      "                  sum_sq     df          F        PR(>F)\n",
      "weathersit  2.422888e+08    1.0  70.729298  2.150976e-16\n",
      "Residual    2.497247e+09  729.0        NaN           NaN\n"
     ]
    }
   ],
   "source": [
    "#anova test for categorical variables\n",
    "categ = ['season', 'yr', 'mnth', 'holiday', 'weekday', 'workingday', 'weathersit']\n",
    "for i in categ:\n",
    "    fit2 = ols('cnt' + '~' + i, data = day3).fit()\n",
    "    anova = sm.stats.anova_lm(fit2, typ = 2)\n",
    "    print(anova)"
   ]
  },
  {
   "cell_type": "markdown",
   "metadata": {},
   "source": [
    "Holiday,Weekday and Working day has p value greater than 0.05 in anova test"
   ]
  },
  {
   "cell_type": "markdown",
   "metadata": {},
   "source": [
    "in collinearity checking temp and atemp is highly correlated atemp can be removed for dimension reduction\n",
    "Also in anova test Holiday,weekday and working day has p value greater than 0.05 so these variables also can be removed"
   ]
  },
  {
   "cell_type": "code",
   "execution_count": 22,
   "metadata": {},
   "outputs": [],
   "source": [
    "day4 = day3\n",
    "day4=day4.drop(['atemp', 'holiday', 'weekday', 'workingday'], axis = \"columns\")"
   ]
  },
  {
   "cell_type": "markdown",
   "metadata": {},
   "source": [
    "For dimension reduction###########################################################################################\n",
    "cnt are not dependant on instant,dteday variables and cnt is sum of casual and registered these variables also can be removed(instant,dteday,casual,registered)\n"
   ]
  },
  {
   "cell_type": "code",
   "execution_count": 23,
   "metadata": {},
   "outputs": [],
   "source": [
    "day4=day4.drop(['instant', 'dteday', 'casual', 'registered'], axis = \"columns\")"
   ]
  },
  {
   "cell_type": "code",
   "execution_count": 24,
   "metadata": {},
   "outputs": [
    {
     "data": {
      "text/html": [
       "<div>\n",
       "<style scoped>\n",
       "    .dataframe tbody tr th:only-of-type {\n",
       "        vertical-align: middle;\n",
       "    }\n",
       "\n",
       "    .dataframe tbody tr th {\n",
       "        vertical-align: top;\n",
       "    }\n",
       "\n",
       "    .dataframe thead th {\n",
       "        text-align: right;\n",
       "    }\n",
       "</style>\n",
       "<table border=\"1\" class=\"dataframe\">\n",
       "  <thead>\n",
       "    <tr style=\"text-align: right;\">\n",
       "      <th></th>\n",
       "      <th>season</th>\n",
       "      <th>yr</th>\n",
       "      <th>mnth</th>\n",
       "      <th>weathersit</th>\n",
       "      <th>temp</th>\n",
       "      <th>hum</th>\n",
       "      <th>windspeed</th>\n",
       "      <th>cnt</th>\n",
       "    </tr>\n",
       "  </thead>\n",
       "  <tbody>\n",
       "    <tr>\n",
       "      <th>0</th>\n",
       "      <td>1</td>\n",
       "      <td>0</td>\n",
       "      <td>1</td>\n",
       "      <td>2</td>\n",
       "      <td>0.344167</td>\n",
       "      <td>0.805833</td>\n",
       "      <td>0.160446</td>\n",
       "      <td>985</td>\n",
       "    </tr>\n",
       "    <tr>\n",
       "      <th>1</th>\n",
       "      <td>1</td>\n",
       "      <td>0</td>\n",
       "      <td>1</td>\n",
       "      <td>2</td>\n",
       "      <td>0.363478</td>\n",
       "      <td>0.696087</td>\n",
       "      <td>0.248539</td>\n",
       "      <td>801</td>\n",
       "    </tr>\n",
       "    <tr>\n",
       "      <th>2</th>\n",
       "      <td>1</td>\n",
       "      <td>0</td>\n",
       "      <td>1</td>\n",
       "      <td>1</td>\n",
       "      <td>0.196364</td>\n",
       "      <td>0.437273</td>\n",
       "      <td>0.248309</td>\n",
       "      <td>1349</td>\n",
       "    </tr>\n",
       "    <tr>\n",
       "      <th>3</th>\n",
       "      <td>1</td>\n",
       "      <td>0</td>\n",
       "      <td>1</td>\n",
       "      <td>1</td>\n",
       "      <td>0.200000</td>\n",
       "      <td>0.590435</td>\n",
       "      <td>0.160296</td>\n",
       "      <td>1562</td>\n",
       "    </tr>\n",
       "    <tr>\n",
       "      <th>4</th>\n",
       "      <td>1</td>\n",
       "      <td>0</td>\n",
       "      <td>1</td>\n",
       "      <td>1</td>\n",
       "      <td>0.226957</td>\n",
       "      <td>0.436957</td>\n",
       "      <td>0.186900</td>\n",
       "      <td>1600</td>\n",
       "    </tr>\n",
       "  </tbody>\n",
       "</table>\n",
       "</div>"
      ],
      "text/plain": [
       "   season  yr  mnth  weathersit      temp       hum  windspeed   cnt\n",
       "0       1   0     1           2  0.344167  0.805833   0.160446   985\n",
       "1       1   0     1           2  0.363478  0.696087   0.248539   801\n",
       "2       1   0     1           1  0.196364  0.437273   0.248309  1349\n",
       "3       1   0     1           1  0.200000  0.590435   0.160296  1562\n",
       "4       1   0     1           1  0.226957  0.436957   0.186900  1600"
      ]
     },
     "execution_count": 24,
     "metadata": {},
     "output_type": "execute_result"
    }
   ],
   "source": [
    "day4.head()"
   ]
  },
  {
   "cell_type": "code",
   "execution_count": 25,
   "metadata": {},
   "outputs": [
    {
     "data": {
      "image/png": "[encoded data removed]",
      "text/plain": [
       "<Figure size 432x288 with 1 Axes>"
      ]
     },
     "metadata": {
      "needs_background": "light"
     },
     "output_type": "display_data"
    }
   ],
   "source": [
    "sns.distplot(day4['temp'], bins = 'auto', color = 'blue')\n",
    "plt.show()"
   ]
  },
  {
   "cell_type": "code",
   "execution_count": 26,
   "metadata": {},
   "outputs": [
    {
     "data": {
      "image/png": "[encoded data removed]",
      "text/plain": [
       "<Figure size 432x288 with 1 Axes>"
      ]
     },
     "metadata": {
      "needs_background": "light"
     },
     "output_type": "display_data"
    }
   ],
   "source": [
    "sns.distplot(day4['hum'], bins = 'auto', color = 'blue')\n",
    "plt.show()"
   ]
  },
  {
   "cell_type": "code",
   "execution_count": 27,
   "metadata": {},
   "outputs": [
    {
     "data": {
      "image/png": "[encoded data removed]",
      "text/plain": [
       "<Figure size 432x288 with 1 Axes>"
      ]
     },
     "metadata": {
      "needs_background": "light"
     },
     "output_type": "display_data"
    }
   ],
   "source": [
    "sns.distplot(day4['windspeed'], bins = 'auto', color = 'blue')\n",
    "plt.show()"
   ]
  },
  {
   "cell_type": "code",
   "execution_count": 28,
   "metadata": {},
   "outputs": [
    {
     "data": {
      "image/png": "[encoded data removed]",
      "text/plain": [
       "<Figure size 432x288 with 1 Axes>"
      ]
     },
     "metadata": {
      "needs_background": "light"
     },
     "output_type": "display_data"
    }
   ],
   "source": [
    "sns.distplot(day4['cnt'], bins = 'auto', color = 'blue')\n",
    "plt.show()"
   ]
  },
  {
   "cell_type": "markdown",
   "metadata": {},
   "source": [
    "All numeric variables are symmetric"
   ]
  },
  {
   "cell_type": "code",
   "execution_count": 29,
   "metadata": {},
   "outputs": [
    {
     "data": {
      "text/html": [
       "<div>\n",
       "<style scoped>\n",
       "    .dataframe tbody tr th:only-of-type {\n",
       "        vertical-align: middle;\n",
       "    }\n",
       "\n",
       "    .dataframe tbody tr th {\n",
       "        vertical-align: top;\n",
       "    }\n",
       "\n",
       "    .dataframe thead th {\n",
       "        text-align: right;\n",
       "    }\n",
       "</style>\n",
       "<table border=\"1\" class=\"dataframe\">\n",
       "  <thead>\n",
       "    <tr style=\"text-align: right;\">\n",
       "      <th></th>\n",
       "      <th>season</th>\n",
       "      <th>yr</th>\n",
       "      <th>mnth</th>\n",
       "      <th>weathersit</th>\n",
       "      <th>temp</th>\n",
       "      <th>hum</th>\n",
       "      <th>windspeed</th>\n",
       "      <th>cnt</th>\n",
       "    </tr>\n",
       "  </thead>\n",
       "  <tbody>\n",
       "    <tr>\n",
       "      <th>count</th>\n",
       "      <td>731.000000</td>\n",
       "      <td>731.000000</td>\n",
       "      <td>731.000000</td>\n",
       "      <td>731.000000</td>\n",
       "      <td>731.000000</td>\n",
       "      <td>731.000000</td>\n",
       "      <td>731.000000</td>\n",
       "      <td>731.000000</td>\n",
       "    </tr>\n",
       "    <tr>\n",
       "      <th>mean</th>\n",
       "      <td>2.496580</td>\n",
       "      <td>0.500684</td>\n",
       "      <td>6.519836</td>\n",
       "      <td>1.395349</td>\n",
       "      <td>0.495385</td>\n",
       "      <td>0.629359</td>\n",
       "      <td>0.186392</td>\n",
       "      <td>4504.348837</td>\n",
       "    </tr>\n",
       "    <tr>\n",
       "      <th>std</th>\n",
       "      <td>1.110807</td>\n",
       "      <td>0.500342</td>\n",
       "      <td>3.451913</td>\n",
       "      <td>0.544894</td>\n",
       "      <td>0.183051</td>\n",
       "      <td>0.139566</td>\n",
       "      <td>0.071149</td>\n",
       "      <td>1937.211452</td>\n",
       "    </tr>\n",
       "    <tr>\n",
       "      <th>min</th>\n",
       "      <td>1.000000</td>\n",
       "      <td>0.000000</td>\n",
       "      <td>1.000000</td>\n",
       "      <td>1.000000</td>\n",
       "      <td>0.059130</td>\n",
       "      <td>0.254167</td>\n",
       "      <td>0.022392</td>\n",
       "      <td>22.000000</td>\n",
       "    </tr>\n",
       "    <tr>\n",
       "      <th>25%</th>\n",
       "      <td>2.000000</td>\n",
       "      <td>0.000000</td>\n",
       "      <td>4.000000</td>\n",
       "      <td>1.000000</td>\n",
       "      <td>0.337083</td>\n",
       "      <td>0.522291</td>\n",
       "      <td>0.134950</td>\n",
       "      <td>3152.000000</td>\n",
       "    </tr>\n",
       "    <tr>\n",
       "      <th>50%</th>\n",
       "      <td>3.000000</td>\n",
       "      <td>1.000000</td>\n",
       "      <td>7.000000</td>\n",
       "      <td>1.000000</td>\n",
       "      <td>0.498333</td>\n",
       "      <td>0.629167</td>\n",
       "      <td>0.180975</td>\n",
       "      <td>4548.000000</td>\n",
       "    </tr>\n",
       "    <tr>\n",
       "      <th>75%</th>\n",
       "      <td>3.000000</td>\n",
       "      <td>1.000000</td>\n",
       "      <td>10.000000</td>\n",
       "      <td>2.000000</td>\n",
       "      <td>0.655417</td>\n",
       "      <td>0.730209</td>\n",
       "      <td>0.229786</td>\n",
       "      <td>5956.000000</td>\n",
       "    </tr>\n",
       "    <tr>\n",
       "      <th>max</th>\n",
       "      <td>4.000000</td>\n",
       "      <td>1.000000</td>\n",
       "      <td>12.000000</td>\n",
       "      <td>3.000000</td>\n",
       "      <td>0.861667</td>\n",
       "      <td>0.972500</td>\n",
       "      <td>0.378108</td>\n",
       "      <td>8714.000000</td>\n",
       "    </tr>\n",
       "  </tbody>\n",
       "</table>\n",
       "</div>"
      ],
      "text/plain": [
       "           season          yr        mnth  weathersit        temp         hum  \\\n",
       "count  731.000000  731.000000  731.000000  731.000000  731.000000  731.000000   \n",
       "mean     2.496580    0.500684    6.519836    1.395349    0.495385    0.629359   \n",
       "std      1.110807    0.500342    3.451913    0.544894    0.183051    0.139566   \n",
       "min      1.000000    0.000000    1.000000    1.000000    0.059130    0.254167   \n",
       "25%      2.000000    0.000000    4.000000    1.000000    0.337083    0.522291   \n",
       "50%      3.000000    1.000000    7.000000    1.000000    0.498333    0.629167   \n",
       "75%      3.000000    1.000000   10.000000    2.000000    0.655417    0.730209   \n",
       "max      4.000000    1.000000   12.000000    3.000000    0.861667    0.972500   \n",
       "\n",
       "        windspeed          cnt  \n",
       "count  731.000000   731.000000  \n",
       "mean     0.186392  4504.348837  \n",
       "std      0.071149  1937.211452  \n",
       "min      0.022392    22.000000  \n",
       "25%      0.134950  3152.000000  \n",
       "50%      0.180975  4548.000000  \n",
       "75%      0.229786  5956.000000  \n",
       "max      0.378108  8714.000000  "
      ]
     },
     "execution_count": 29,
     "metadata": {},
     "output_type": "execute_result"
    }
   ],
   "source": [
    "day4.describe()"
   ]
  },
  {
   "cell_type": "markdown",
   "metadata": {},
   "source": [
    "Variables are normalized no need of feature scaling"
   ]
  },
  {
   "cell_type": "markdown",
   "metadata": {},
   "source": [
    "Modeling"
   ]
  },
  {
   "cell_type": "code",
   "execution_count": 30,
   "metadata": {},
   "outputs": [
    {
     "data": {
      "text/plain": [
       "(731, 25)"
      ]
     },
     "execution_count": 30,
     "metadata": {},
     "output_type": "execute_result"
    }
   ],
   "source": [
    "#Decision Tree\n",
    "#creating dummy variables for Categorical Variables\n",
    "categ = ['season','yr','mnth','weathersit']\n",
    "day5 = pd.get_dummies(day4, columns = categ) \n",
    "day5.head()\n",
    "day5.shape"
   ]
  },
  {
   "cell_type": "code",
   "execution_count": null,
   "metadata": {},
   "outputs": [],
   "source": []
  },
  {
   "cell_type": "code",
   "execution_count": 31,
   "metadata": {},
   "outputs": [],
   "source": [
    "from sklearn.metrics import accuracy_score\n",
    "from sklearn.model_selection import train_test_split \n",
    "from sklearn.metrics import mean_squared_error\n",
    "from scipy.stats.stats import pearsonr \n",
    "variables=day5.drop(['cnt'], axis = \"columns\")\n",
    "train_var, test_var, train_cnt, test_cnt = train_test_split(variables, day['cnt'], test_size=.20, random_state=0)"
   ]
  },
  {
   "cell_type": "code",
   "execution_count": 32,
   "metadata": {},
   "outputs": [],
   "source": [
    "from sklearn.tree import DecisionTreeRegressor\n",
    "model_dt = DecisionTreeRegressor(max_depth=2).fit(train_var,train_cnt)"
   ]
  },
  {
   "cell_type": "code",
   "execution_count": 33,
   "metadata": {},
   "outputs": [],
   "source": [
    "#Prediction\n",
    "test_dt = model_dt.predict(test_var)"
   ]
  },
  {
   "cell_type": "code",
   "execution_count": 34,
   "metadata": {},
   "outputs": [],
   "source": [
    "MAPE_DT = np.mean(np.abs(test_cnt-test_dt)/test_cnt)*100"
   ]
  },
  {
   "cell_type": "code",
   "execution_count": 35,
   "metadata": {},
   "outputs": [
    {
     "data": {
      "text/plain": [
       "36.94809301452646"
      ]
     },
     "execution_count": 35,
     "metadata": {},
     "output_type": "execute_result"
    }
   ],
   "source": [
    "MAPE_DT"
   ]
  },
  {
   "cell_type": "code",
   "execution_count": 36,
   "metadata": {},
   "outputs": [],
   "source": [
    "rsquare_dt= np.corrcoef(test_cnt,test_dt)**2"
   ]
  },
  {
   "cell_type": "code",
   "execution_count": 37,
   "metadata": {},
   "outputs": [
    {
     "name": "stdout",
     "output_type": "stream",
     "text": [
      "[[1.         0.65446069]\n",
      " [0.65446069 1.        ]]\n"
     ]
    }
   ],
   "source": [
    "print(str(rsquare_dt))"
   ]
  },
  {
   "cell_type": "code",
   "execution_count": null,
   "metadata": {},
   "outputs": [],
   "source": []
  },
  {
   "cell_type": "code",
   "execution_count": 38,
   "metadata": {},
   "outputs": [],
   "source": [
    "rsquare_dt1 = rsquare_dt.ravel()\n",
    "\n",
    "rsqr_dt = float(rsquare_dt1[1])"
   ]
  },
  {
   "cell_type": "code",
   "execution_count": 39,
   "metadata": {},
   "outputs": [
    {
     "data": {
      "text/plain": [
       "0.6544606873373333"
      ]
     },
     "execution_count": 39,
     "metadata": {},
     "output_type": "execute_result"
    }
   ],
   "source": [
    "rsqr_dt"
   ]
  },
  {
   "cell_type": "markdown",
   "metadata": {},
   "source": [
    "Decision Tree Summary"
   ]
  },
  {
   "cell_type": "markdown",
   "metadata": {},
   "source": [
    "MAPE = 36.94809301452646"
   ]
  },
  {
   "cell_type": "markdown",
   "metadata": {},
   "source": [
    "Rsquare = 0.6544606873373333"
   ]
  },
  {
   "cell_type": "markdown",
   "metadata": {},
   "source": [
    "Random Forest"
   ]
  },
  {
   "cell_type": "code",
   "execution_count": 40,
   "metadata": {},
   "outputs": [],
   "source": [
    "from sklearn.ensemble import RandomForestRegressor\n",
    "\n",
    "model_rf = RandomForestRegressor(n_estimators=500).fit(train_var,train_cnt)"
   ]
  },
  {
   "cell_type": "code",
   "execution_count": 41,
   "metadata": {},
   "outputs": [],
   "source": [
    "#predictions\n",
    "test_rf = model_rf.predict(test_var)"
   ]
  },
  {
   "cell_type": "code",
   "execution_count": 42,
   "metadata": {},
   "outputs": [],
   "source": [
    "MAPE_RF = np.mean(np.abs(test_cnt-test_rf)/test_cnt)*100"
   ]
  },
  {
   "cell_type": "code",
   "execution_count": 43,
   "metadata": {},
   "outputs": [
    {
     "data": {
      "text/plain": [
       "20.941556127697257"
      ]
     },
     "execution_count": 43,
     "metadata": {},
     "output_type": "execute_result"
    }
   ],
   "source": [
    "MAPE_RF"
   ]
  },
  {
   "cell_type": "code",
   "execution_count": 44,
   "metadata": {},
   "outputs": [],
   "source": [
    "rsquare_rf= np.corrcoef(test_cnt,test_rf)**2"
   ]
  },
  {
   "cell_type": "code",
   "execution_count": 45,
   "metadata": {},
   "outputs": [],
   "source": [
    "rsquare_rf1 = rsquare_rf.ravel()\n",
    "\n",
    "rsqr_rf = float(rsquare_rf1[1])"
   ]
  },
  {
   "cell_type": "code",
   "execution_count": 46,
   "metadata": {},
   "outputs": [
    {
     "data": {
      "text/plain": [
       "0.884011372851943"
      ]
     },
     "execution_count": 46,
     "metadata": {},
     "output_type": "execute_result"
    }
   ],
   "source": [
    "rsqr_rf"
   ]
  },
  {
   "cell_type": "markdown",
   "metadata": {},
   "source": [
    "Random Forest Summary"
   ]
  },
  {
   "cell_type": "markdown",
   "metadata": {},
   "source": [
    "MAPE = 20.668671141459097"
   ]
  },
  {
   "cell_type": "markdown",
   "metadata": {},
   "source": [
    "R Square = 0.8871298270927973"
   ]
  },
  {
   "cell_type": "markdown",
   "metadata": {},
   "source": [
    "Linear Regression"
   ]
  },
  {
   "cell_type": "code",
   "execution_count": 47,
   "metadata": {},
   "outputs": [],
   "source": [
    "import statsmodels.api as lr\n",
    "model_lr= lr.OLS(train_cnt,train_var).fit()"
   ]
  },
  {
   "cell_type": "code",
   "execution_count": 48,
   "metadata": {},
   "outputs": [],
   "source": [
    "#Predictions\n",
    "\n",
    "test_lr = model_lr.predict(test_var)"
   ]
  },
  {
   "cell_type": "code",
   "execution_count": 49,
   "metadata": {},
   "outputs": [],
   "source": [
    "MAPE_LR = np.mean(np.abs(test_cnt-test_lr)/test_cnt)*100"
   ]
  },
  {
   "cell_type": "code",
   "execution_count": 50,
   "metadata": {},
   "outputs": [
    {
     "data": {
      "text/plain": [
       "18.783428096440577"
      ]
     },
     "execution_count": 50,
     "metadata": {},
     "output_type": "execute_result"
    }
   ],
   "source": [
    "MAPE_LR "
   ]
  },
  {
   "cell_type": "code",
   "execution_count": 51,
   "metadata": {},
   "outputs": [],
   "source": [
    "rsquare_lr= np.corrcoef(test_cnt,test_lr)**2"
   ]
  },
  {
   "cell_type": "code",
   "execution_count": 52,
   "metadata": {},
   "outputs": [],
   "source": [
    "rsquare_lr1 = rsquare_lr.ravel()\n",
    "\n",
    "rsqr_lr = float(rsquare_lr1[1])"
   ]
  },
  {
   "cell_type": "code",
   "execution_count": 53,
   "metadata": {},
   "outputs": [
    {
     "data": {
      "text/plain": [
       "0.8436859345476398"
      ]
     },
     "execution_count": 53,
     "metadata": {},
     "output_type": "execute_result"
    }
   ],
   "source": [
    "rsqr_lr"
   ]
  },
  {
   "cell_type": "markdown",
   "metadata": {},
   "source": [
    "Linear Regression Summary"
   ]
  },
  {
   "cell_type": "markdown",
   "metadata": {},
   "source": [
    "MAPE = 18.783428096440577"
   ]
  },
  {
   "cell_type": "markdown",
   "metadata": {},
   "source": [
    "R Square = 0.8436859345476398"
   ]
  },
  {
   "cell_type": "markdown",
   "metadata": {},
   "source": [
    "Random Forest is the best method because MAPE is less and R Square is higher (In linear regression MAPE is only slightly lower but R Square value is less compared to Random Forest), We are using Random Forest for input and output example"
   ]
  },
  {
   "cell_type": "markdown",
   "metadata": {},
   "source": [
    "Sample Input and Output"
   ]
  },
  {
   "cell_type": "markdown",
   "metadata": {},
   "source": [
    "x is the sample input"
   ]
  },
  {
   "cell_type": "markdown",
   "metadata": {},
   "source": [
    "x= (\"season\"=1,\"yr\"=0,\"mnth\"=2,\"weathersit\"=2,\"temp\"=0.173,\"hum\"=0.796,\"windspeed\"=0.1323,\"cnt\"=NA)"
   ]
  },
  {
   "cell_type": "code",
   "execution_count": 54,
   "metadata": {},
   "outputs": [],
   "source": [
    "day6=day4\n",
    "day6.loc[len(day6.index)] = [1, 0, 2,2,0.173,0.796,0.1323,'NA'] "
   ]
  },
  {
   "cell_type": "code",
   "execution_count": 55,
   "metadata": {},
   "outputs": [],
   "source": [
    "day6 = pd.get_dummies(day6, columns = categ) "
   ]
  },
  {
   "cell_type": "code",
   "execution_count": 56,
   "metadata": {},
   "outputs": [],
   "source": [
    "x = day6.loc[:,day6.columns != 'cnt']"
   ]
  },
  {
   "cell_type": "code",
   "execution_count": 57,
   "metadata": {},
   "outputs": [],
   "source": [
    "output = model_rf.predict(x)"
   ]
  },
  {
   "cell_type": "code",
   "execution_count": 58,
   "metadata": {},
   "outputs": [
    {
     "data": {
      "text/plain": [
       "array([1435.346, 1739.79 , 1380.586, 1508.216, 1554.616, 1586.684,\n",
       "       1483.878, 1061.512, 1284.56 , 1281.1  ,  854.972, 1217.052,\n",
       "       1347.618, 1387.664, 1520.688, 1374.39 , 1115.428,  770.868,\n",
       "       1519.69 , 1768.192, 1462.232, 1098.244, 1088.66 , 1329.104,\n",
       "       1809.166,  679.476,  770.146,  916.654, 1133.982, 1019.972,\n",
       "       1435.58 , 1214.102, 1573.486, 1560.848, 1722.276, 1133.558,\n",
       "       1756.468, 1833.2  , 1533.33 , 1526.22 , 1484.688, 1726.462,\n",
       "       1539.414, 1732.022, 2081.938, 1833.76 , 1986.86 , 2658.018,\n",
       "       4652.504, 2101.622, 1917.262, 1340.348, 1538.356, 1843.04 ,\n",
       "       1748.872, 1808.272, 1865.164, 2354.174, 1676.072, 1877.682,\n",
       "       2142.382, 1665.098, 1931.53 , 2137.96 , 1684.142, 1829.106,\n",
       "       2182.508, 1878.118, 2210.884, 1973.67 , 2112.062, 2364.526,\n",
       "       2204.418, 1999.576, 2187.71 , 2311.146, 4371.338, 3590.934,\n",
       "       2316.968, 2419.46 , 2929.37 , 2050.924, 1891.458, 2196.762,\n",
       "       2363.176, 2101.812, 2151.746, 2300.6  , 1820.678, 1638.272,\n",
       "       2112.86 , 2134.812, 2937.216, 3605.368, 2142.374, 2743.074,\n",
       "       3055.332, 1670.438, 2340.244, 2693.304, 3550.336, 2627.166,\n",
       "       2199.03 , 4140.762, 3248.732, 1408.95 , 3900.91 , 3666.488,\n",
       "       3276.498, 3998.128, 4070.104, 1831.752, 3619.016, 3475.306,\n",
       "       3930.218, 4122.182, 3717.642, 3897.994, 4072.084, 4640.82 ,\n",
       "       3512.494, 4386.61 , 3859.79 , 2362.752, 4364.154, 4585.41 ,\n",
       "       4668.178, 4669.036, 4460.71 , 4887.542, 4455.296, 4721.03 ,\n",
       "       4041.456, 3379.264, 4289.128, 4212.014, 4000.328, 3840.356,\n",
       "       4481.154, 4756.744, 5327.612, 4617.598, 4209.714, 4478.132,\n",
       "       4870.32 , 4686.67 , 4623.564, 4664.162, 4562.444, 4390.754,\n",
       "       4196.448, 4091.074, 4966.806, 5200.244, 5340.506, 4782.1  ,\n",
       "       5226.244, 4987.794, 4422.21 , 3983.652, 4619.704, 4855.102,\n",
       "       4783.77 , 4985.802, 4969.472, 5203.988, 4046.488, 4797.36 ,\n",
       "       5052.196, 4781.994, 4512.868, 4635.564, 4562.178, 4577.222,\n",
       "       4914.9  , 5154.718, 5243.86 , 4777.69 , 4564.196, 5151.616,\n",
       "       5337.904, 5157.946, 5102.716, 4532.008, 5479.444, 4698.01 ,\n",
       "       4615.978, 4564.248, 4169.778, 5173.616, 4779.474, 4205.376,\n",
       "       4321.876, 4605.948, 5113.238, 5286.322, 5042.114, 5149.254,\n",
       "       4471.254, 4449.07 , 4319.038, 3859.16 , 3588.704, 3593.056,\n",
       "       3701.372, 4104.918, 4541.922, 4693.912, 4423.986, 3798.47 ,\n",
       "       4329.384, 4231.2  , 4390.884, 4770.494, 4482.846, 4195.848,\n",
       "       4737.878, 4214.536, 3966.914, 4414.814, 4514.892, 4755.978,\n",
       "       5073.16 , 5096.91 , 4179.182, 3972.292, 4346.478, 4745.122,\n",
       "       4757.142, 4095.72 , 4313.416, 4981.486, 4002.526, 4884.128,\n",
       "       5570.064, 5007.908, 4118.144, 4622.734, 2025.886, 4755.7  ,\n",
       "       4761.328, 5126.88 , 5305.926, 4830.674, 4608.324, 4583.894,\n",
       "       4728.846, 4242.462, 2738.804, 2929.05 , 2416.882, 3744.494,\n",
       "       4535.372, 4906.278, 4805.716, 4741.412, 4767.784, 3814.77 ,\n",
       "       4557.538, 4361.876, 4382.154, 4343.426, 3774.84 , 3762.038,\n",
       "       3953.344, 2910.308, 4076.048, 4334.564, 4060.28 , 3772.952,\n",
       "       3830.088, 4633.79 , 4422.438, 2829.594, 2980.28 , 3659.21 ,\n",
       "       4395.312, 4697.56 , 4726.554, 5190.848, 5291.004, 5322.536,\n",
       "       5165.574, 4347.718, 2508.422, 3174.684, 3852.662, 5115.984,\n",
       "       4933.79 , 4589.406, 4625.96 , 2604.05 , 4330.608, 3821.428,\n",
       "       4197.95 , 4239.128, 4121.132, 4653.714, 4067.55 , 4047.448,\n",
       "       3614.086, 2247.738, 3461.708, 3627.166, 3948.454, 3856.336,\n",
       "       3867.75 , 3833.736, 3784.97 , 3571.688, 4053.032, 4117.238,\n",
       "       4080.028, 3032.38 , 3357.836, 3716.062, 3658.744, 4508.126,\n",
       "       4039.512, 2771.092, 3185.016, 3186.182, 3684.212, 3725.628,\n",
       "       2748.082, 1855.324, 2768.914, 2259.966, 3056.466, 3192.138,\n",
       "       3913.31 , 4079.544, 3396.954, 3496.998, 3670.384, 3782.74 ,\n",
       "       3632.134, 3521.134, 3637.258, 2553.08 , 1358.02 , 3227.174,\n",
       "       3610.034, 3259.368, 2936.834, 3203.254, 3291.35 , 3624.028,\n",
       "       3661.054, 3351.964, 2970.098, 3039.428, 3372.116, 3748.028,\n",
       "       2192.322, 2876.172, 2115.574, 1330.95 , 1195.338, 1578.284,\n",
       "       1635.58 , 1944.942, 2143.004, 2543.174, 2331.542, 3934.082,\n",
       "       3124.162, 2270.02 , 2363.162, 2610.188, 3975.364, 4515.972,\n",
       "       3665.794, 2358.826, 3602.392, 2244.31 , 3823.772, 3062.98 ,\n",
       "       2538.544, 2386.61 , 2513.738, 3216.634, 3413.258, 2977.348,\n",
       "       3024.31 , 1694.784, 1737.858, 2166.954, 3797.69 , 3686.454,\n",
       "       3481.234, 3705.952, 3778.078, 3414.792, 3375.868, 4500.434,\n",
       "       5100.146, 3849.302, 3915.394, 2147.342, 2853.72 , 3755.766,\n",
       "       4299.042, 2751.874, 2967.71 , 3663.822, 1925.482, 1933.68 ,\n",
       "       3084.002, 3812.82 , 4051.006, 3235.764, 4015.602, 4020.926,\n",
       "       2937.56 , 3304.552, 3732.74 , 4642.284, 5012.332, 3837.248,\n",
       "       3167.506, 3340.804, 4418.83 , 4342.41 , 2557.024, 5234.936,\n",
       "       3547.36 , 4120.792, 3567.734, 3210.878, 3617.33 , 4660.066,\n",
       "       6345.576, 4459.618, 3814.236, 4718.548, 5368.376, 6337.702,\n",
       "       6596.402, 6342.894, 4263.716, 7346.504, 5824.824, 6494.724,\n",
       "       6177.342, 6189.546, 6373.762, 7751.224, 3969.548, 3691.326,\n",
       "       5811.872, 5093.75 , 5807.94 , 6109.708, 5225.49 , 5448.18 ,\n",
       "       5492.896, 5990.952, 6643.204, 6784.072, 6335.432, 6082.244,\n",
       "       6140.858, 5738.466, 5704.738, 5910.108, 5000.706, 5533.52 ,\n",
       "       6299.868, 6806.106, 6964.222, 6562.886, 6766.31 , 4967.072,\n",
       "       6677.974, 6685.382, 6402.156, 1870.922, 3621.514, 5700.132,\n",
       "       6386.074, 5307.25 , 5747.716, 5344.712, 6144.84 , 5269.78 ,\n",
       "       6166.128, 5833.518, 6292.588, 6436.876, 6491.968, 6334.534,\n",
       "       6299.628, 5872.456, 5260.206, 6145.23 , 7004.166, 7326.87 ,\n",
       "       6468.078, 5018.664, 5448.508, 7219.222, 7228.008, 7455.808,\n",
       "       7382.27 , 7093.742, 4661.264, 6196.216, 5797.74 , 6694.934,\n",
       "       6627.374, 6454.666, 6628.368, 6697.876, 6012.106, 6783.766,\n",
       "       7315.106, 4880.272, 7213.812, 7530.616, 7013.19 , 6597.358,\n",
       "       7098.264, 7145.82 , 7639.288, 7419.87 , 6844.568, 6613.3  ,\n",
       "       4973.76 , 6692.964, 7223.922, 7226.18 , 7627.776, 7026.372,\n",
       "       5283.81 , 6799.434, 6297.5  , 5934.706, 5987.506, 7257.796,\n",
       "       7022.378, 6868.976, 7210.156, 7271.61 , 7049.498, 5636.088,\n",
       "       6054.034, 5757.92 , 6355.038, 6641.238, 6863.214, 6087.85 ,\n",
       "       6077.944, 5749.016, 5398.834, 6633.036, 6550.514, 7089.438,\n",
       "       7369.58 , 7423.668, 6896.906, 6409.75 , 6835.61 , 6385.712,\n",
       "       6120.304, 6490.594, 5378.986, 4875.992, 7104.474, 6828.452,\n",
       "       7280.85 , 7786.886, 6423.554, 6297.274, 6804.34 , 7124.91 ,\n",
       "       6867.39 , 7031.534, 7017.496, 7055.87 , 6560.52 , 6584.016,\n",
       "       6561.146, 6977.712, 7220.38 , 7356.58 , 7131.186, 5995.356,\n",
       "       6401.842, 6891.998, 7256.61 , 6842.898, 7303.144, 7470.74 ,\n",
       "       7165.686, 7647.324, 7132.582, 6666.006, 7176.398, 7317.28 ,\n",
       "       7616.696, 7495.252, 6146.158, 5178.838, 6875.61 , 7097.638,\n",
       "       7567.818, 7419.27 , 6988.2  , 6667.678, 5954.732, 6177.29 ,\n",
       "       6590.118, 6976.756, 6042.628, 7274.534, 5791.362, 8078.816,\n",
       "       7797.66 , 7695.98 , 7781.364, 7774.734, 7892.38 , 7946.688,\n",
       "       7488.696, 6944.078, 4724.41 , 7739.594, 7658.278, 7913.754,\n",
       "       7986.428, 7723.142, 7397.934, 7661.258, 7786.728, 7360.18 ,\n",
       "       7295.394, 8145.202, 7254.14 , 6962.446, 4936.884, 7034.434,\n",
       "       7329.25 , 7899.962, 7478.752, 4389.364, 5021.978, 5139.324,\n",
       "       7164.77 , 7177.148, 6882.228, 6340.654, 6898.54 , 6178.146,\n",
       "       6994.49 , 6595.524, 7305.12 , 5785.132, 7632.644, 6781.668,\n",
       "       7192.832, 7420.692, 7469.348, 6964.732, 6954.722, 7501.404,\n",
       "       5316.162, 1449.732, 2267.24 , 5036.304, 5624.284, 5659.928,\n",
       "       5190.986, 5504.414, 5264.726, 5450.372, 5126.104, 5058.152,\n",
       "       5805.198, 5444.094, 6292.514, 6264.932, 4311.94 , 5396.166,\n",
       "       5371.394, 5567.262, 5517.064, 4695.45 , 5450.986, 5302.624,\n",
       "       5208.508, 3566.456, 4653.498, 3089.126, 3106.92 , 4594.86 ,\n",
       "       4024.008, 5295.566, 5255.648, 5176.874, 4764.956, 4442.85 ,\n",
       "       5903.26 , 6206.388, 5967.824, 4575.082, 4758.298, 5022.228,\n",
       "       3654.376, 4015.828, 5359.17 , 5352.488, 5446.39 , 5396.196,\n",
       "       5145.162, 4110.95 , 4507.296, 5392.888, 5273.356, 4488.47 ,\n",
       "       3568.782, 2449.836, 2110.794, 1396.302, 3301.142,  959.168,\n",
       "       2361.368, 2849.656, 2171.946, 2790.368, 2644.058, 1188.972])"
      ]
     },
     "execution_count": 58,
     "metadata": {},
     "output_type": "execute_result"
    }
   ],
   "source": [
    "output"
   ]
  },
  {
   "cell_type": "code",
   "execution_count": 59,
   "metadata": {},
   "outputs": [
    {
     "data": {
      "text/plain": [
       "732"
      ]
     },
     "execution_count": 59,
     "metadata": {},
     "output_type": "execute_result"
    }
   ],
   "source": [
    "len(day6)"
   ]
  },
  {
   "cell_type": "code",
   "execution_count": 1,
   "metadata": {},
   "outputs": [
    {
     "ename": "NameError",
     "evalue": "name 'output' is not defined",
     "output_type": "error",
     "traceback": [
      "\u001b[0;31m---------------------------------------------------------------------------\u001b[0m",
      "\u001b[0;31mNameError\u001b[0m                                 Traceback (most recent call last)",
      "\u001b[0;32m<ipython-input-1-b40458ac75ad>\u001b[0m in \u001b[0;36m<module>\u001b[0;34m\u001b[0m\n\u001b[0;32m----> 1\u001b[0;31m \u001b[0moutput\u001b[0m\u001b[0;34m[\u001b[0m\u001b[0mlen\u001b[0m\u001b[0;34m(\u001b[0m\u001b[0mday6\u001b[0m\u001b[0;34m)\u001b[0m\u001b[0;34m-\u001b[0m\u001b[0;36m1\u001b[0m\u001b[0;34m]\u001b[0m\u001b[0;34m\u001b[0m\u001b[0;34m\u001b[0m\u001b[0m\n\u001b[0m",
      "\u001b[0;31mNameError\u001b[0m: name 'output' is not defined"
     ]
    }
   ],
   "source": [
    "output[len(day6)-1]"
   ]
  },
  {
   "cell_type": "code",
   "execution_count": 58,
   "metadata": {},
   "outputs": [
    {
     "data": {
      "text/plain": [
       "<statsmodels.regression.linear_model.RegressionResultsWrapper at 0x7fcf9cf2c9a0>"
      ]
     },
     "execution_count": 58,
     "metadata": {},
     "output_type": "execute_result"
    }
   ],
   "source": [
    "model_dt"
   ]
  },
  {
   "cell_type": "code",
   "execution_count": null,
   "metadata": {},
   "outputs": [],
   "source": []
  }
 ],
 "metadata": {
  "kernelspec": {
   "display_name": "Python 3",
   "language": "python",
   "name": "python3"
  },
  "language_info": {
   "codemirror_mode": {
    "name": "ipython",
    "version": 3
   },
   "file_extension": ".py",
   "mimetype": "text/x-python",
   "name": "python",
   "nbconvert_exporter": "python",
   "pygments_lexer": "ipython3",
   "version": "3.8.3"
  }
 },
 "nbformat": 4,
 "nbformat_minor": 4
}
